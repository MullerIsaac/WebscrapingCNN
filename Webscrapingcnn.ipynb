{
 "cells": [
  {
   "cell_type": "markdown",
   "id": "d0d5092f-a8cc-484a-bd2c-28b2e10fd5e9",
   "metadata": {
    "tags": []
   },
   "source": [
    "# Webscraping simples com Beautiful Soup"
   ]
  },
  {
   "cell_type": "code",
   "execution_count": 13,
   "id": "a52e3fb4-954e-48fb-be1c-7d62bf18dab2",
   "metadata": {},
   "outputs": [],
   "source": [
    "import requests\n",
    "import csv\n",
    "from bs4 import BeautifulSoup\n",
    "import pandas as pd"
   ]
  },
  {
   "cell_type": "code",
   "execution_count": 18,
   "id": "e5369292-2943-4058-a327-6e96ddc6a7ef",
   "metadata": {},
   "outputs": [],
   "source": [
    "f = csv.writer(open('news.csv', 'w', encoding='utf-8'))\n",
    "f.writerow(['title', 'data','autor','conteudo', 'tags','Link'])\n",
    "\n",
    "headers = {'User-Agent': 'Mozilla/5.0 (Macintosh; Intel Mac OS X 10_10_1) AppleWebKit/537.36 (KHTML, like Gecko) Chrome/39.0.2171.95 Safari/537.36'}\n",
    "links = [f'https://www.cnnbrasil.com.br/ultimas-noticias/pagina/{i}' for i in range(1,10)]\n",
    "\n",
    "for page in links:\n",
    "    result = requests.get(page, headers=headers)\n",
    "\n",
    "    soup = BeautifulSoup(result.content, 'html.parser')\n",
    "\n",
    "    link_list = soup.find_all('li', class_='home__list__item')\n",
    "\n",
    "    for link in link_list:\n",
    "        l = link.find('a').get('href')\n",
    "        news = requests.get(l, headers=headers)\n",
    "        soup_news = BeautifulSoup(news.content, 'html.parser')\n",
    "        title = soup_news.find(class_=\"post__title\").get_text()\n",
    "        data = soup_news.find(class_=\"post__data\").get_text()\n",
    "        try:\n",
    "            autor = soup_news.find(class_=\"author__group\").get_text()\n",
    "        except:\n",
    "            autor = ''\n",
    "        conteudo = soup_news.find(class_=\"post__content\").find_all('p')\n",
    "        conteudo_texto = [p.get_text() for p in conteudo]\n",
    "        conteudo_tratado = '\\n'.join(conteudo_texto)\n",
    "        try:\n",
    "            tags = soup_news.find(class_='tags__list').find_all('a')\n",
    "            tags_texto = [a.get_text() for a in tags]\n",
    "            tags_tratado = ','.join(tags_texto)\n",
    "        except:\n",
    "            tags_tratado = ''\n",
    "        f.writerow([title, data, autor, conteudo_tratado, tags_tratado, l])"
   ]
  },
  {
   "cell_type": "code",
   "execution_count": 16,
   "id": "e7552c37-16d2-49dc-b38e-b5706b5fc1aa",
   "metadata": {},
   "outputs": [
    {
     "data": {
      "text/plain": [
       "(24, 6)"
      ]
     },
     "execution_count": 16,
     "metadata": {},
     "output_type": "execute_result"
    }
   ],
   "source": [
    "df = pd.read_csv('news.csv', encoding='utf-8')\n",
    "df.shape"
   ]
  },
  {
   "cell_type": "code",
   "execution_count": 17,
   "id": "28f930d9-7c5d-49a6-b8ae-ee682ff0a5d0",
   "metadata": {},
   "outputs": [
    {
     "data": {
      "text/html": [
       "<div>\n",
       "<style scoped>\n",
       "    .dataframe tbody tr th:only-of-type {\n",
       "        vertical-align: middle;\n",
       "    }\n",
       "\n",
       "    .dataframe tbody tr th {\n",
       "        vertical-align: top;\n",
       "    }\n",
       "\n",
       "    .dataframe thead th {\n",
       "        text-align: right;\n",
       "    }\n",
       "</style>\n",
       "<table border=\"1\" class=\"dataframe\">\n",
       "  <thead>\n",
       "    <tr style=\"text-align: right;\">\n",
       "      <th></th>\n",
       "      <th>title</th>\n",
       "      <th>data</th>\n",
       "      <th>autor</th>\n",
       "      <th>conteudo</th>\n",
       "      <th>tags</th>\n",
       "      <th>Link</th>\n",
       "    </tr>\n",
       "  </thead>\n",
       "  <tbody>\n",
       "    <tr>\n",
       "      <th>0</th>\n",
       "      <td>Após ataques, atriz de “Renascer” recebe apoi...</td>\n",
       "      <td>01/06/2024 às 20:20 | Atualizado 01/06/2024 à...</td>\n",
       "      <td>Pedro N. Jordãoda CNN</td>\n",
       "      <td>Após sofrer ataques transfóbicos nas redes soc...</td>\n",
       "      <td>#CNNPop , Renascer</td>\n",
       "      <td>https://www.cnnbrasil.com.br/entretenimento/ap...</td>\n",
       "    </tr>\n",
       "    <tr>\n",
       "      <th>1</th>\n",
       "      <td>Série B: Brusque e Novorizontino ficam no emp...</td>\n",
       "      <td>01/06/2024 às 20:13</td>\n",
       "      <td>Da CNN</td>\n",
       "      <td>O confronto entre Brusque e Novorizontino, vál...</td>\n",
       "      <td>-veja-como-foi- , brusque , Campeonato Brasil...</td>\n",
       "      <td>https://www.cnnbrasil.com.br/esportes/futebol/...</td>\n",
       "    </tr>\n",
       "    <tr>\n",
       "      <th>2</th>\n",
       "      <td>Mãe e dois filhos brasileiros ficam gravement...</td>\n",
       "      <td>01/06/2024 às 20:04 | Atualizado 01/06/2024 à...</td>\n",
       "      <td>Teo CuryJussara Soaresda CNN</td>\n",
       "      <td>Três brasileiros — uma mulher e seus dois filh...</td>\n",
       "      <td>Líbano</td>\n",
       "      <td>https://www.cnnbrasil.com.br/internacional/bra...</td>\n",
       "    </tr>\n",
       "    <tr>\n",
       "      <th>3</th>\n",
       "      <td>Carlo Ancelotti amplia hegemonia como maior c...</td>\n",
       "      <td>01/06/2024 às 19:57</td>\n",
       "      <td>Da CNN</td>\n",
       "      <td>Carlo Ancelotti conseguiu mais uma vez. Neste ...</td>\n",
       "      <td>Carlo Ancelotti , Champions League , CNN Espo...</td>\n",
       "      <td>https://www.cnnbrasil.com.br/esportes/futebol/...</td>\n",
       "    </tr>\n",
       "    <tr>\n",
       "      <th>4</th>\n",
       "      <td>Dupla do Borussia Dortmund amarga segundo vic...</td>\n",
       "      <td>01/06/2024 às 19:44</td>\n",
       "      <td>Lucas Sanchesda Itatiaia</td>\n",
       "      <td>Dois jogadores do Borussia Dortmund amargaram ...</td>\n",
       "      <td>Borussia Dortmund , Champions League , CNN Es...</td>\n",
       "      <td>https://www.cnnbrasil.com.br/esportes/futebol/...</td>\n",
       "    </tr>\n",
       "  </tbody>\n",
       "</table>\n",
       "</div>"
      ],
      "text/plain": [
       "                                               title  \\\n",
       "0   Após ataques, atriz de “Renascer” recebe apoi...   \n",
       "1   Série B: Brusque e Novorizontino ficam no emp...   \n",
       "2   Mãe e dois filhos brasileiros ficam gravement...   \n",
       "3   Carlo Ancelotti amplia hegemonia como maior c...   \n",
       "4   Dupla do Borussia Dortmund amarga segundo vic...   \n",
       "\n",
       "                                                data  \\\n",
       "0   01/06/2024 às 20:20 | Atualizado 01/06/2024 à...   \n",
       "1                               01/06/2024 às 20:13    \n",
       "2   01/06/2024 às 20:04 | Atualizado 01/06/2024 à...   \n",
       "3                               01/06/2024 às 19:57    \n",
       "4                               01/06/2024 às 19:44    \n",
       "\n",
       "                          autor  \\\n",
       "0         Pedro N. Jordãoda CNN   \n",
       "1                        Da CNN   \n",
       "2  Teo CuryJussara Soaresda CNN   \n",
       "3                        Da CNN   \n",
       "4      Lucas Sanchesda Itatiaia   \n",
       "\n",
       "                                            conteudo  \\\n",
       "0  Após sofrer ataques transfóbicos nas redes soc...   \n",
       "1  O confronto entre Brusque e Novorizontino, vál...   \n",
       "2  Três brasileiros — uma mulher e seus dois filh...   \n",
       "3  Carlo Ancelotti conseguiu mais uma vez. Neste ...   \n",
       "4  Dois jogadores do Borussia Dortmund amargaram ...   \n",
       "\n",
       "                                                tags  \\\n",
       "0                                #CNNPop , Renascer    \n",
       "1   -veja-como-foi- , brusque , Campeonato Brasil...   \n",
       "2                                            Líbano    \n",
       "3   Carlo Ancelotti , Champions League , CNN Espo...   \n",
       "4   Borussia Dortmund , Champions League , CNN Es...   \n",
       "\n",
       "                                                Link  \n",
       "0  https://www.cnnbrasil.com.br/entretenimento/ap...  \n",
       "1  https://www.cnnbrasil.com.br/esportes/futebol/...  \n",
       "2  https://www.cnnbrasil.com.br/internacional/bra...  \n",
       "3  https://www.cnnbrasil.com.br/esportes/futebol/...  \n",
       "4  https://www.cnnbrasil.com.br/esportes/futebol/...  "
      ]
     },
     "execution_count": 17,
     "metadata": {},
     "output_type": "execute_result"
    }
   ],
   "source": [
    "df.head()"
   ]
  },
  {
   "cell_type": "code",
   "execution_count": null,
   "id": "f367c31b-56dd-423d-ad86-6c80bb78ad2f",
   "metadata": {},
   "outputs": [],
   "source": []
  }
 ],
 "metadata": {
  "kernelspec": {
   "display_name": "Python 3 (ipykernel)",
   "language": "python",
   "name": "python3"
  },
  "language_info": {
   "codemirror_mode": {
    "name": "ipython",
    "version": 3
   },
   "file_extension": ".py",
   "mimetype": "text/x-python",
   "name": "python",
   "nbconvert_exporter": "python",
   "pygments_lexer": "ipython3",
   "version": "3.10.8"
  }
 },
 "nbformat": 4,
 "nbformat_minor": 5
}
